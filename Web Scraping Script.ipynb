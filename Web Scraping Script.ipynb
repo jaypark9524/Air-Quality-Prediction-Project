{
 "cells": [
  {
   "cell_type": "code",
   "execution_count": 153,
   "metadata": {},
   "outputs": [],
   "source": [
    "from bs4 import BeautifulSoup\n",
    "import urllib, os, urllib.request\n",
    "from selenium import webdriver\n",
    "from bs4 import BeautifulSoup\n",
    "import time\n",
    "import csv"
   ]
  },
  {
   "cell_type": "code",
   "execution_count": 197,
   "metadata": {},
   "outputs": [],
   "source": [
    "def web_scrape_weather_data():\n",
    "    for year in range(2014, 2020):\n",
    "        for month in range(1, 13):\n",
    "            url = 'https://www.wunderground.com/history/monthly/kr/gangseo-gu/RKSS/date/{}-{}'.format(year, month)\n",
    "\n",
    "            driver = webdriver.Chrome()\n",
    "            driver.get(url)\n",
    "            time.sleep(5)\n",
    "            html = driver.execute_script(\"return document.documentElement.outerHTML\")\n",
    "            driver.close()\n",
    "            soup = BeautifulSoup(html, 'html.parser') \n",
    "\n",
    "            total_data = []\n",
    "            for column in soup.find_all('table', {'class':'days ng-star-inserted'})[0].find_all('tr')[1].find_all('table'):\n",
    "                column_data = []\n",
    "                for row in column.find_all('tr'):\n",
    "                    if column.find_all('tr')[0].text.strip() in ['Jan', 'Feb', 'Mar', 'Apr', 'May', 'Jun', 'Jul', 'Aug', 'Sep', 'Oct', 'Nov', 'Dec']:\n",
    "                        column_data.append(\"{}-{}-\".format(year, month) + row.text.strip())\n",
    "                    elif column.find_all('tr')[0].text.strip() == \"Total\":\n",
    "                        column_data.append(row.text.strip())\n",
    "                    else:\n",
    "                        column_data.append(row.find_all('td')[1].text.strip())\n",
    "                total_data.append(column_data)\n",
    "\n",
    "            rows = zip(total_data[0], total_data[1], total_data[2], total_data[3], total_data[4], total_data[5], total_data[6])\n",
    "\n",
    "            if year == 2014 and month == 1:\n",
    "                with open('Data/weather_data.csv', 'w') as csv_file:\n",
    "                    thewriter = csv.writer(csv_file)\n",
    "                    thewriter.writerow([\"Time\", \"Average_Temperature_(F)\", \"Dew_Point_(F)\", \"Humidity_(%)\", \"Wind_Speed_(mph)\", \n",
    "                                        \"Pressure_(Hg)\", \"Precipitation_(in)\"])\n",
    "                    for row in list(rows)[1:]:\n",
    "                        thewriter.writerow(row)\n",
    "            else:\n",
    "                with open('Data/weather_data.csv', 'a') as csv_file:\n",
    "                    thewriter = csv.writer(csv_file)\n",
    "                    for row in list(rows)[1:]:\n",
    "                        thewriter.writerow(row)  \n",
    "    csv_file.close()"
   ]
  },
  {
   "cell_type": "code",
   "execution_count": 198,
   "metadata": {},
   "outputs": [],
   "source": [
    "web_scrape_weather_data()"
   ]
  },
  {
   "cell_type": "code",
   "execution_count": 194,
   "metadata": {},
   "outputs": [
    {
     "name": "stdout",
     "output_type": "stream",
     "text": [
      "('2015-9-1', '78.8', '62.2', '57.6', '7.2', '29.8', '0.00')\n",
      "('2015-9-2', '76.4', '63.2', '64.0', '7.2', '29.8', '0.00')\n",
      "('2015-9-3', '75.0', '64.6', '71.9', '5.6', '29.8', '0.00')\n",
      "('2015-9-4', '75.3', '63.7', '69.5', '3.5', '29.8', '0.00')\n",
      "('2015-9-5', '71.8', '65.5', '80.5', '5.3', '29.8', '0.00')\n",
      "('2015-9-6', '71.4', '58.0', '64.0', '7.9', '29.7', '0.00')\n",
      "('2015-9-7', '71.8', '53.0', '53.9', '5.2', '29.8', '0.00')\n",
      "('2015-9-8', '72.0', '48.1', '48.4', '5.5', '29.9', '0.00')\n",
      "('2015-9-9', '70.5', '46.4', '44.1', '8.1', '30.0', '0.00')\n",
      "('2015-9-10', '69.8', '55.9', '62.6', '4.8', '29.9', '0.00')\n",
      "('2015-9-11', '69.5', '61.1', '75.5', '5.9', '29.8', '0.00')\n",
      "('2015-9-12', '66.5', '53.0', '65.3', '3.5', '29.7', '0.00')\n",
      "('2015-9-13', '66.3', '47.8', '55.3', '5.5', '29.9', '0.00')\n",
      "('2015-9-14', '70.6', '56.2', '62.6', '4.5', '30.1', '0.00')\n",
      "('2015-9-15', '71.7', '52.3', '56.8', '4.6', '30.1', '0.00')\n",
      "('2015-9-16', '69.8', '45.3', '43.2', '6.0', '30.0', '0.00')\n",
      "('2015-9-17', '69.6', '46.8', '47.5', '6.6', '30.0', '0.00')\n",
      "('2015-9-18', '68.3', '50.5', '55.5', '4.5', '30.0', '0.00')\n",
      "('2015-9-19', '69.7', '55.7', '64.7', '4.4', '29.9', '0.00')\n",
      "('2015-9-20', '70.5', '60.3', '72.1', '3.8', '29.8', '0.00')\n",
      "('2015-9-21', '70.3', '58.0', '69.9', '3.3', '29.9', '0.00')\n",
      "('2015-9-22', '71.9', '55.0', '60.6', '3.7', '29.9', '0.00')\n",
      "('2015-9-23', '70.7', '55.9', '61.2', '3.6', '29.8', '0.00')\n",
      "('2015-9-24', '69.8', '58.1', '70.8', '3.9', '29.7', '0.00')\n",
      "('2015-9-25', '71.4', '58.7', '67.1', '3.8', '29.7', '0.00')\n",
      "('2015-9-26', '69.1', '55.6', '67.3', '5.0', '29.8', '0.00')\n",
      "('2015-9-27', '67.6', '43.5', '47.0', '4.2', '29.9', '0.00')\n",
      "('2015-9-28', '67.5', '47.4', '53.6', '4.1', '30.0', '0.00')\n",
      "('2015-9-29', '68.4', '42.2', '42.2', '6.4', '30.1', '0.00')\n",
      "('2015-9-30', '71.0', '45.8', '41.6', '7.1', '30.1', '0.00')\n",
      "('2015-9-1', '70.0', '48.0', '46.0', '3.0', '29.9', '0.00')\n"
     ]
    }
   ],
   "source": [
    "for row in list(rows)[1:]:\n",
    "    print(row)"
   ]
  },
  {
   "cell_type": "code",
   "execution_count": null,
   "metadata": {},
   "outputs": [],
   "source": []
  }
 ],
 "metadata": {
  "kernelspec": {
   "display_name": "Python 3",
   "language": "python",
   "name": "python3"
  },
  "language_info": {
   "codemirror_mode": {
    "name": "ipython",
    "version": 3
   },
   "file_extension": ".py",
   "mimetype": "text/x-python",
   "name": "python",
   "nbconvert_exporter": "python",
   "pygments_lexer": "ipython3",
   "version": "3.6.7"
  }
 },
 "nbformat": 4,
 "nbformat_minor": 2
}
